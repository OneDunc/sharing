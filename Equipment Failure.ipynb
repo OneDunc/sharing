{
 "cells": [
  {
   "cell_type": "code",
   "execution_count": 1,
   "id": "e9bd9eff",
   "metadata": {},
   "outputs": [
    {
     "name": "stdout",
     "output_type": "stream",
     "text": [
      "Collecting plotly\n",
      "  Downloading plotly-5.4.0-py2.py3-none-any.whl (25.3 MB)\n",
      "     |████████████████████████████████| 25.3 MB 8.3 MB/s            \n",
      "\u001b[?25hCollecting tenacity>=6.2.0\n",
      "  Downloading tenacity-8.0.1-py3-none-any.whl (24 kB)\n",
      "Requirement already satisfied: six in /srv/conda/envs/notebook/lib/python3.6/site-packages (from plotly) (1.16.0)\n",
      "Installing collected packages: tenacity, plotly\n",
      "Successfully installed plotly-5.4.0 tenacity-8.0.1\n",
      "Collecting chart-studio\n",
      "  Downloading chart_studio-1.1.0-py3-none-any.whl (64 kB)\n",
      "     |████████████████████████████████| 64 kB 3.7 MB/s             \n",
      "\u001b[?25hRequirement already satisfied: requests in /srv/conda/envs/notebook/lib/python3.6/site-packages (from chart-studio) (2.26.0)\n",
      "Requirement already satisfied: six in /srv/conda/envs/notebook/lib/python3.6/site-packages (from chart-studio) (1.16.0)\n",
      "Collecting retrying>=1.3.3\n",
      "  Downloading retrying-1.3.3.tar.gz (10 kB)\n",
      "  Preparing metadata (setup.py) ... \u001b[?25ldone\n",
      "\u001b[?25hRequirement already satisfied: plotly in /srv/conda/envs/notebook/lib/python3.6/site-packages (from chart-studio) (5.4.0)\n",
      "Requirement already satisfied: tenacity>=6.2.0 in /srv/conda/envs/notebook/lib/python3.6/site-packages (from plotly->chart-studio) (8.0.1)\n",
      "Requirement already satisfied: idna<4,>=2.5 in /srv/conda/envs/notebook/lib/python3.6/site-packages (from requests->chart-studio) (3.1)\n",
      "Requirement already satisfied: certifi>=2017.4.17 in /srv/conda/envs/notebook/lib/python3.6/site-packages (from requests->chart-studio) (2021.5.30)\n",
      "Requirement already satisfied: urllib3<1.27,>=1.21.1 in /srv/conda/envs/notebook/lib/python3.6/site-packages (from requests->chart-studio) (1.26.7)\n",
      "Requirement already satisfied: charset-normalizer~=2.0.0 in /srv/conda/envs/notebook/lib/python3.6/site-packages (from requests->chart-studio) (2.0.0)\n",
      "Building wheels for collected packages: retrying\n",
      "  Building wheel for retrying (setup.py) ... \u001b[?25ldone\n",
      "\u001b[?25h  Created wheel for retrying: filename=retrying-1.3.3-py3-none-any.whl size=11448 sha256=c33673814aa1fca0b8cf25e1caa2ff8a6106ef52c4cc0e2f42340a9aebcfe08a\n",
      "  Stored in directory: /home/jovyan/.cache/pip/wheels/ac/cb/8a/b27bf6323e2f4c462dcbf77d70b7c5e7868a7fbe12871770cf\n",
      "Successfully built retrying\n",
      "Installing collected packages: retrying, chart-studio\n",
      "Successfully installed chart-studio-1.1.0 retrying-1.3.3\n"
     ]
    }
   ],
   "source": [
    "#!pip install imbalanced-learn -- upgrade\n",
    "!pip install plotly --upgrade\n",
    "!pip install chart-studio --upgrade"
   ]
  },
  {
   "cell_type": "code",
   "execution_count": 2,
   "id": "0aefa2c9",
   "metadata": {},
   "outputs": [
    {
     "name": "stdout",
     "output_type": "stream",
     "text": [
      "Collecting scikit-learn==0.23.1\n",
      "  Downloading scikit_learn-0.23.1-cp36-cp36m-manylinux1_x86_64.whl (6.8 MB)\n",
      "     |████████████████████████████████| 6.8 MB 6.7 MB/s            \n",
      "\u001b[?25hRequirement already satisfied: joblib>=0.11 in /srv/conda/envs/notebook/lib/python3.6/site-packages (from scikit-learn==0.23.1) (1.1.0)\n",
      "Requirement already satisfied: numpy>=1.13.3 in /srv/conda/envs/notebook/lib/python3.6/site-packages (from scikit-learn==0.23.1) (1.19.5)\n",
      "Requirement already satisfied: scipy>=0.19.1 in /srv/conda/envs/notebook/lib/python3.6/site-packages (from scikit-learn==0.23.1) (1.5.3)\n",
      "Requirement already satisfied: threadpoolctl>=2.0.0 in /srv/conda/envs/notebook/lib/python3.6/site-packages (from scikit-learn==0.23.1) (3.0.0)\n",
      "Installing collected packages: scikit-learn\n",
      "  Attempting uninstall: scikit-learn\n",
      "    Found existing installation: scikit-learn 0.24.2\n",
      "    Uninstalling scikit-learn-0.24.2:\n",
      "      Successfully uninstalled scikit-learn-0.24.2\n",
      "Successfully installed scikit-learn-0.23.1\n",
      "Collecting imbalanced-learn==0.7.0\n",
      "  Downloading imbalanced_learn-0.7.0-py3-none-any.whl (167 kB)\n",
      "     |████████████████████████████████| 167 kB 8.3 MB/s            \n",
      "\u001b[?25hRequirement already satisfied: joblib>=0.11 in /srv/conda/envs/notebook/lib/python3.6/site-packages (from imbalanced-learn==0.7.0) (1.1.0)\n",
      "Requirement already satisfied: scipy>=0.19.1 in /srv/conda/envs/notebook/lib/python3.6/site-packages (from imbalanced-learn==0.7.0) (1.5.3)\n",
      "Requirement already satisfied: scikit-learn>=0.23 in /srv/conda/envs/notebook/lib/python3.6/site-packages (from imbalanced-learn==0.7.0) (0.23.1)\n",
      "Requirement already satisfied: numpy>=1.13.3 in /srv/conda/envs/notebook/lib/python3.6/site-packages (from imbalanced-learn==0.7.0) (1.19.5)\n",
      "Requirement already satisfied: threadpoolctl>=2.0.0 in /srv/conda/envs/notebook/lib/python3.6/site-packages (from scikit-learn>=0.23->imbalanced-learn==0.7.0) (3.0.0)\n",
      "Installing collected packages: imbalanced-learn\n",
      "Successfully installed imbalanced-learn-0.7.0\n"
     ]
    }
   ],
   "source": [
    "!pip install scikit-learn==0.23.1\n",
    "!pip install imbalanced-learn==0.7.0"
   ]
  },
  {
   "cell_type": "code",
   "execution_count": 11,
   "id": "fbb0ae55",
   "metadata": {},
   "outputs": [],
   "source": [
    "import chart_studio.plotly as py\n",
    "import plotly.graph_objs as go\n",
    "import plotly as plotly\n",
    "import pandas as pd\n",
    "import numpy as np\n",
    "from imblearn.over_sampling import SMOTE\n",
    "from imblearn.over_sampling import SMOTENC\n",
    "from sklearn import metrics\n",
    "\n",
    "from sklearn.preprocessing import LabelEncoder\n",
    "\n",
    "import xgboost as xgb\n",
    "from xgboost.sklearn import XGBClassifier\n",
    "\n",
    "import types\n",
    "import pandas as pd\n",
    "\n",
    "def __iter__(self): return 0"
   ]
  },
  {
   "cell_type": "code",
   "execution_count": 9,
   "id": "d7b04c75",
   "metadata": {},
   "outputs": [
    {
     "name": "stdout",
     "output_type": "stream",
     "text": [
      "Collecting xgboost\n",
      "  Downloading xgboost-1.5.1-py3-none-manylinux2014_x86_64.whl (173.5 MB)\n",
      "     |████████████████████████████████| 173.5 MB 26 kB/s              \n",
      "\u001b[?25hRequirement already satisfied: numpy in /srv/conda/envs/notebook/lib/python3.6/site-packages (from xgboost) (1.19.5)\n",
      "Requirement already satisfied: scipy in /srv/conda/envs/notebook/lib/python3.6/site-packages (from xgboost) (1.5.3)\n",
      "Installing collected packages: xgboost\n",
      "Successfully installed xgboost-1.5.1\n",
      "Note: you may need to restart the kernel to use updated packages.\n"
     ]
    }
   ],
   "source": [
    "pip install xgboost"
   ]
  },
  {
   "cell_type": "code",
   "execution_count": 12,
   "id": "54afbd84",
   "metadata": {},
   "outputs": [
    {
     "name": "stdout",
     "output_type": "stream",
     "text": [
      "--2021-12-17 04:03:16--  https://raw.githubusercontent.com/shadgriffin/machine_failure/master/equipment_failure_data_1.csv\n",
      "Resolving raw.githubusercontent.com (raw.githubusercontent.com)... 185.199.109.133, 185.199.111.133, 185.199.110.133, ...\n",
      "Connecting to raw.githubusercontent.com (raw.githubusercontent.com)|185.199.109.133|:443... connected.\n",
      "HTTP request sent, awaiting response... 200 OK\n",
      "Length: 11219474 (11M) [text/plain]\n",
      "Saving to: ‘equipment_failure_data_1.csv’\n",
      "\n",
      "equipment_failure_d 100%[===================>]  10.70M  41.6MB/s    in 0.3s    \n",
      "\n",
      "2021-12-17 04:03:17 (41.6 MB/s) - ‘equipment_failure_data_1.csv’ saved [11219474/11219474]\n",
      "\n"
     ]
    }
   ],
   "source": [
    "#import first half from github\n",
    "!wget https://raw.githubusercontent.com/shadgriffin/machine_failure/master/equipment_failure_data_1.csv"
   ]
  },
  {
   "cell_type": "code",
   "execution_count": 13,
   "id": "857850d6",
   "metadata": {},
   "outputs": [],
   "source": [
    "# Convert csv to pandas dataframe\n",
    "pd_data_1 = pd.read_csv(\"equipment_failure_data_1.csv\", sep=\",\", header=0)"
   ]
  },
  {
   "cell_type": "code",
   "execution_count": 14,
   "id": "1d7be6ae",
   "metadata": {},
   "outputs": [
    {
     "name": "stdout",
     "output_type": "stream",
     "text": [
      "--2021-12-17 04:04:18--  https://raw.githubusercontent.com/shadgriffin/machine_failure/master/equipment_failure_data_2.csv\n",
      "Resolving raw.githubusercontent.com (raw.githubusercontent.com)... 185.199.108.133, 185.199.111.133, 185.199.110.133, ...\n",
      "Connecting to raw.githubusercontent.com (raw.githubusercontent.com)|185.199.108.133|:443... connected.\n",
      "HTTP request sent, awaiting response... 200 OK\n",
      "Length: 11762512 (11M) [text/plain]\n",
      "Saving to: ‘equipment_failure_data_2.csv’\n",
      "\n",
      "equipment_failure_d 100%[===================>]  11.22M  41.9MB/s    in 0.3s    \n",
      "\n",
      "2021-12-17 04:04:19 (41.9 MB/s) - ‘equipment_failure_data_2.csv’ saved [11762512/11762512]\n",
      "\n"
     ]
    }
   ],
   "source": [
    "#Import the second half from github\n",
    "!wget https://raw.githubusercontent.com/shadgriffin/machine_failure/master/equipment_failure_data_2.csv"
   ]
  },
  {
   "cell_type": "code",
   "execution_count": 15,
   "id": "8950e526",
   "metadata": {},
   "outputs": [],
   "source": [
    "# convert to pandas dataframe\n",
    "pd_data_2 = pd.read_csv(\"equipment_failure_data_2.csv\", sep=\",\", header=0)"
   ]
  },
  {
   "cell_type": "code",
   "execution_count": 16,
   "id": "25815164",
   "metadata": {},
   "outputs": [],
   "source": [
    "#concatenate the two data files into one dataframe\n",
    "pd_data=pd.concat([pd_data_1, pd_data_2])"
   ]
  },
  {
   "cell_type": "code",
   "execution_count": 17,
   "id": "4741bb54",
   "metadata": {},
   "outputs": [
    {
     "data": {
      "text/html": [
       "<div>\n",
       "<style scoped>\n",
       "    .dataframe tbody tr th:only-of-type {\n",
       "        vertical-align: middle;\n",
       "    }\n",
       "\n",
       "    .dataframe tbody tr th {\n",
       "        vertical-align: top;\n",
       "    }\n",
       "\n",
       "    .dataframe thead th {\n",
       "        text-align: right;\n",
       "    }\n",
       "</style>\n",
       "<table border=\"1\" class=\"dataframe\">\n",
       "  <thead>\n",
       "    <tr style=\"text-align: right;\">\n",
       "      <th></th>\n",
       "      <th>ID</th>\n",
       "      <th>DATE</th>\n",
       "      <th>REGION_CLUSTER</th>\n",
       "      <th>MAINTENANCE_VENDOR</th>\n",
       "      <th>MANUFACTURER</th>\n",
       "      <th>WELL_GROUP</th>\n",
       "      <th>S15</th>\n",
       "      <th>S17</th>\n",
       "      <th>S13</th>\n",
       "      <th>S5</th>\n",
       "      <th>S16</th>\n",
       "      <th>S19</th>\n",
       "      <th>S18</th>\n",
       "      <th>EQUIPMENT_FAILURE</th>\n",
       "      <th>S8</th>\n",
       "      <th>AGE_OF_EQUIPMENT</th>\n",
       "    </tr>\n",
       "  </thead>\n",
       "  <tbody>\n",
       "    <tr>\n",
       "      <th>0</th>\n",
       "      <td>100001</td>\n",
       "      <td>12/2/14</td>\n",
       "      <td>G</td>\n",
       "      <td>O</td>\n",
       "      <td>Y</td>\n",
       "      <td>1</td>\n",
       "      <td>11.088000</td>\n",
       "      <td>145.223448</td>\n",
       "      <td>39.34</td>\n",
       "      <td>3501.0</td>\n",
       "      <td>8.426869</td>\n",
       "      <td>1.9</td>\n",
       "      <td>24.610345</td>\n",
       "      <td>0</td>\n",
       "      <td>0.0</td>\n",
       "      <td>880</td>\n",
       "    </tr>\n",
       "    <tr>\n",
       "      <th>1</th>\n",
       "      <td>100001</td>\n",
       "      <td>12/3/14</td>\n",
       "      <td>G</td>\n",
       "      <td>O</td>\n",
       "      <td>Y</td>\n",
       "      <td>1</td>\n",
       "      <td>8.877943</td>\n",
       "      <td>187.573214</td>\n",
       "      <td>39.20</td>\n",
       "      <td>3489.0</td>\n",
       "      <td>6.483714</td>\n",
       "      <td>1.9</td>\n",
       "      <td>24.671429</td>\n",
       "      <td>0</td>\n",
       "      <td>0.0</td>\n",
       "      <td>881</td>\n",
       "    </tr>\n",
       "    <tr>\n",
       "      <th>2</th>\n",
       "      <td>100001</td>\n",
       "      <td>12/4/14</td>\n",
       "      <td>G</td>\n",
       "      <td>O</td>\n",
       "      <td>Y</td>\n",
       "      <td>1</td>\n",
       "      <td>8.676444</td>\n",
       "      <td>148.363704</td>\n",
       "      <td>38.87</td>\n",
       "      <td>3459.0</td>\n",
       "      <td>6.159659</td>\n",
       "      <td>2.0</td>\n",
       "      <td>24.733333</td>\n",
       "      <td>0</td>\n",
       "      <td>0.0</td>\n",
       "      <td>882</td>\n",
       "    </tr>\n",
       "    <tr>\n",
       "      <th>3</th>\n",
       "      <td>100001</td>\n",
       "      <td>12/5/14</td>\n",
       "      <td>G</td>\n",
       "      <td>O</td>\n",
       "      <td>Y</td>\n",
       "      <td>1</td>\n",
       "      <td>9.988338</td>\n",
       "      <td>133.660000</td>\n",
       "      <td>39.47</td>\n",
       "      <td>3513.0</td>\n",
       "      <td>9.320308</td>\n",
       "      <td>2.0</td>\n",
       "      <td>24.773077</td>\n",
       "      <td>0</td>\n",
       "      <td>0.0</td>\n",
       "      <td>883</td>\n",
       "    </tr>\n",
       "    <tr>\n",
       "      <th>4</th>\n",
       "      <td>100001</td>\n",
       "      <td>12/6/14</td>\n",
       "      <td>G</td>\n",
       "      <td>O</td>\n",
       "      <td>Y</td>\n",
       "      <td>1</td>\n",
       "      <td>8.475264</td>\n",
       "      <td>197.181600</td>\n",
       "      <td>40.33</td>\n",
       "      <td>3589.0</td>\n",
       "      <td>8.022960</td>\n",
       "      <td>1.5</td>\n",
       "      <td>24.808000</td>\n",
       "      <td>0</td>\n",
       "      <td>0.0</td>\n",
       "      <td>884</td>\n",
       "    </tr>\n",
       "  </tbody>\n",
       "</table>\n",
       "</div>"
      ],
      "text/plain": [
       "       ID     DATE REGION_CLUSTER MAINTENANCE_VENDOR MANUFACTURER  WELL_GROUP  \\\n",
       "0  100001  12/2/14              G                  O            Y           1   \n",
       "1  100001  12/3/14              G                  O            Y           1   \n",
       "2  100001  12/4/14              G                  O            Y           1   \n",
       "3  100001  12/5/14              G                  O            Y           1   \n",
       "4  100001  12/6/14              G                  O            Y           1   \n",
       "\n",
       "         S15         S17    S13      S5       S16  S19        S18  \\\n",
       "0  11.088000  145.223448  39.34  3501.0  8.426869  1.9  24.610345   \n",
       "1   8.877943  187.573214  39.20  3489.0  6.483714  1.9  24.671429   \n",
       "2   8.676444  148.363704  38.87  3459.0  6.159659  2.0  24.733333   \n",
       "3   9.988338  133.660000  39.47  3513.0  9.320308  2.0  24.773077   \n",
       "4   8.475264  197.181600  40.33  3589.0  8.022960  1.5  24.808000   \n",
       "\n",
       "   EQUIPMENT_FAILURE   S8  AGE_OF_EQUIPMENT  \n",
       "0                  0  0.0               880  \n",
       "1                  0  0.0               881  \n",
       "2                  0  0.0               882  \n",
       "3                  0  0.0               883  \n",
       "4                  0  0.0               884  "
      ]
     },
     "execution_count": 17,
     "metadata": {},
     "output_type": "execute_result"
    }
   ],
   "source": [
    "pd_data.head()"
   ]
  },
  {
   "cell_type": "code",
   "execution_count": 18,
   "id": "24da5547",
   "metadata": {},
   "outputs": [
    {
     "data": {
      "text/plain": [
       "(307751, 16)"
      ]
     },
     "execution_count": 18,
     "metadata": {},
     "output_type": "execute_result"
    }
   ],
   "source": [
    "pd_data.shape"
   ]
  },
  {
   "cell_type": "code",
   "execution_count": 19,
   "id": "6f3c4a03",
   "metadata": {},
   "outputs": [
    {
     "data": {
      "text/plain": [
       "(421, 15)"
      ]
     },
     "execution_count": 19,
     "metadata": {},
     "output_type": "execute_result"
    }
   ],
   "source": [
    "xxxx = pd.DataFrame(pd_data.groupby(['ID']).agg(['count']))\n",
    "xxxx.shape"
   ]
  },
  {
   "cell_type": "code",
   "execution_count": null,
   "id": "ed530bce",
   "metadata": {},
   "outputs": [],
   "source": []
  }
 ],
 "metadata": {
  "kernelspec": {
   "display_name": "Python 3",
   "language": "python",
   "name": "python3"
  },
  "language_info": {
   "codemirror_mode": {
    "name": "ipython",
    "version": 3
   },
   "file_extension": ".py",
   "mimetype": "text/x-python",
   "name": "python",
   "nbconvert_exporter": "python",
   "pygments_lexer": "ipython3",
   "version": "3.6.13"
  }
 },
 "nbformat": 4,
 "nbformat_minor": 5
}
